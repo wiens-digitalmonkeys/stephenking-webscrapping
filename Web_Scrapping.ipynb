{
  "nbformat": 4,
  "nbformat_minor": 0,
  "metadata": {
    "colab": {
      "provenance": [],
      "mount_file_id": "1zN9FZZ5gyldmDCozBdeM4px8F5gb97hr",
      "authorship_tag": "ABX9TyNMNkVeqlM/62FclRbFSj5K",
      "include_colab_link": true
    },
    "kernelspec": {
      "name": "python3",
      "display_name": "Python 3"
    },
    "language_info": {
      "name": "python"
    }
  },
  "cells": [
    {
      "cell_type": "markdown",
      "metadata": {
        "id": "view-in-github",
        "colab_type": "text"
      },
      "source": [
        "<a href=\"https://colab.research.google.com/github/wiens-digitalmonkeys/stephenking-webscrapping/blob/main/Web_Scrapping.ipynb\" target=\"_parent\"><img src=\"https://colab.research.google.com/assets/colab-badge.svg\" alt=\"Open In Colab\"/></a>"
      ]
    },
    {
      "cell_type": "code",
      "execution_count": 17,
      "metadata": {
        "id": "DGts5c-9NWZU"
      },
      "outputs": [],
      "source": [
        "# @title Import libraries\n",
        "import requests\n",
        "from bs4 import BeautifulSoup\n",
        "import pandas as pd\n"
      ]
    },
    {
      "cell_type": "code",
      "source": [
        "url = \"https://stephenking.com/works/index.html\"\n",
        "response = requests.get(url)\n",
        "soup = BeautifulSoup(response.text, \"html.parser\")\n",
        "# print(soup.prettify())\n",
        "\n",
        "# columns = [\"title\", \"work_type\", \"date\"]\n",
        "books_list = []\n",
        "data_items = soup.find_all(\"a\", class_=\"row work\")\n",
        "for item in data_items:\n",
        "  title = item.find(\"div\", class_=\"col-12 col-sm-6 works-title\").text\n",
        "  work_type = item.find(\"div\", class_=\"col-6 col-sm-3 works-type\").text\n",
        "  date = item.find(\"div\", class_=\"col-6 col-sm-3 works-date\").text\n",
        "  row = {\n",
        "      'title': title,\n",
        "      'work_type': work_type,\n",
        "      'date': date\n",
        "  }\n",
        "  books_list.append(row)\n",
        "\n",
        "\n",
        "df = pd.DataFrame(books_list)\n",
        "print(df)\n",
        "df.to_csv(\"/content/drive/MyDrive/Colab Notebooks/Web Scrapping/Stephen King Books/books_list.csv\", index=False)\n"
      ],
      "metadata": {
        "colab": {
          "base_uri": "https://localhost:8080/"
        },
        "id": "2FIdJ0KJNnkE",
        "outputId": "4c01a076-bc94-4638-aa07-ff5e837610f7"
      },
      "execution_count": 19,
      "outputs": [
        {
          "output_type": "stream",
          "name": "stdout",
          "text": [
            "                                      title         work_type  \\\n",
            "0          'Salem's Lot Illustrated Edition             Novel   \n",
            "1                              'Salem's Lot   Limited Edition   \n",
            "2                              'Salem's Lot   Limited Edition   \n",
            "3                              'Salem's Lot             Novel   \n",
            "4                                  11/22/63             Novel   \n",
            "..                                      ...               ...   \n",
            "451            Year's Best Fantasy & Horror         Anthology   \n",
            "452  Year's Best Horror Stories - Series IX         Anthology   \n",
            "453      You Know They Got a Hell of a Band       Short Story   \n",
            "454                      You Like It Darker  Story Collection   \n",
            "455              Zombies! Zombies! Zombies!         Anthology   \n",
            "\n",
            "                    date  \n",
            "0    November 11th, 2005  \n",
            "1           October 2004  \n",
            "2          December 2014  \n",
            "3     October 17th, 1975  \n",
            "4     November 8th, 2011  \n",
            "..                   ...  \n",
            "451        December 1994  \n",
            "452        December 1980  \n",
            "453         October 1993  \n",
            "454             May 2024  \n",
            "455        December 2010  \n",
            "\n",
            "[456 rows x 3 columns]\n"
          ]
        }
      ]
    }
  ]
}